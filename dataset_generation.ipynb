{
 "cells": [
  {
   "cell_type": "code",
   "execution_count": 1,
   "metadata": {},
   "outputs": [],
   "source": [
    "import pandas as pd\n",
    "import numpy as np"
   ]
  },
  {
   "cell_type": "code",
   "execution_count": 4,
   "metadata": {},
   "outputs": [
    {
     "data": {
      "text/html": [
       "<div>\n",
       "<style scoped>\n",
       "    .dataframe tbody tr th:only-of-type {\n",
       "        vertical-align: middle;\n",
       "    }\n",
       "\n",
       "    .dataframe tbody tr th {\n",
       "        vertical-align: top;\n",
       "    }\n",
       "\n",
       "    .dataframe thead th {\n",
       "        text-align: right;\n",
       "    }\n",
       "</style>\n",
       "<table border=\"1\" class=\"dataframe\">\n",
       "  <thead>\n",
       "    <tr style=\"text-align: right;\">\n",
       "      <th></th>\n",
       "      <th>appid</th>\n",
       "      <th>name</th>\n",
       "      <th>developer</th>\n",
       "      <th>publisher</th>\n",
       "      <th>score_rank</th>\n",
       "      <th>positive</th>\n",
       "      <th>negative</th>\n",
       "      <th>userscore</th>\n",
       "      <th>owners</th>\n",
       "      <th>average_forever</th>\n",
       "      <th>average_2weeks</th>\n",
       "      <th>median_forever</th>\n",
       "      <th>median_2weeks</th>\n",
       "      <th>price</th>\n",
       "      <th>initialprice</th>\n",
       "      <th>discount</th>\n",
       "      <th>ccu</th>\n",
       "    </tr>\n",
       "  </thead>\n",
       "  <tbody>\n",
       "    <tr>\n",
       "      <th>570</th>\n",
       "      <td>570</td>\n",
       "      <td>Dota 2</td>\n",
       "      <td>Valve</td>\n",
       "      <td>Valve</td>\n",
       "      <td></td>\n",
       "      <td>1364873</td>\n",
       "      <td>263943</td>\n",
       "      <td>0</td>\n",
       "      <td>100,000,000 .. 200,000,000</td>\n",
       "      <td>33693</td>\n",
       "      <td>1497</td>\n",
       "      <td>799</td>\n",
       "      <td>674</td>\n",
       "      <td>0</td>\n",
       "      <td>0</td>\n",
       "      <td>0</td>\n",
       "      <td>671035</td>\n",
       "    </tr>\n",
       "    <tr>\n",
       "      <th>730</th>\n",
       "      <td>730</td>\n",
       "      <td>Counter-Strike: Global Offensive</td>\n",
       "      <td>Valve, Hidden Path Entertainment</td>\n",
       "      <td>Valve</td>\n",
       "      <td></td>\n",
       "      <td>5335135</td>\n",
       "      <td>717424</td>\n",
       "      <td>0</td>\n",
       "      <td>50,000,000 .. 100,000,000</td>\n",
       "      <td>28074</td>\n",
       "      <td>825</td>\n",
       "      <td>6490</td>\n",
       "      <td>292</td>\n",
       "      <td>0</td>\n",
       "      <td>0</td>\n",
       "      <td>0</td>\n",
       "      <td>949451</td>\n",
       "    </tr>\n",
       "    <tr>\n",
       "      <th>578080</th>\n",
       "      <td>578080</td>\n",
       "      <td>PUBG: BATTLEGROUNDS</td>\n",
       "      <td>KRAFTON, Inc.</td>\n",
       "      <td>KRAFTON, Inc.</td>\n",
       "      <td></td>\n",
       "      <td>1029684</td>\n",
       "      <td>838306</td>\n",
       "      <td>0</td>\n",
       "      <td>50,000,000 .. 100,000,000</td>\n",
       "      <td>24721</td>\n",
       "      <td>595</td>\n",
       "      <td>11417</td>\n",
       "      <td>250</td>\n",
       "      <td>2999</td>\n",
       "      <td>2999</td>\n",
       "      <td>0</td>\n",
       "      <td>353231</td>\n",
       "    </tr>\n",
       "    <tr>\n",
       "      <th>440</th>\n",
       "      <td>440</td>\n",
       "      <td>Team Fortress 2</td>\n",
       "      <td>Valve</td>\n",
       "      <td>Valve</td>\n",
       "      <td></td>\n",
       "      <td>779844</td>\n",
       "      <td>52003</td>\n",
       "      <td>0</td>\n",
       "      <td>50,000,000 .. 100,000,000</td>\n",
       "      <td>8064</td>\n",
       "      <td>1629</td>\n",
       "      <td>343</td>\n",
       "      <td>514</td>\n",
       "      <td>0</td>\n",
       "      <td>0</td>\n",
       "      <td>0</td>\n",
       "      <td>107161</td>\n",
       "    </tr>\n",
       "    <tr>\n",
       "      <th>304930</th>\n",
       "      <td>304930</td>\n",
       "      <td>Unturned</td>\n",
       "      <td>Smartly Dressed Games</td>\n",
       "      <td>Smartly Dressed Games</td>\n",
       "      <td></td>\n",
       "      <td>419374</td>\n",
       "      <td>39279</td>\n",
       "      <td>0</td>\n",
       "      <td>20,000,000 .. 50,000,000</td>\n",
       "      <td>7108</td>\n",
       "      <td>2203</td>\n",
       "      <td>333</td>\n",
       "      <td>321</td>\n",
       "      <td>0</td>\n",
       "      <td>0</td>\n",
       "      <td>0</td>\n",
       "      <td>28380</td>\n",
       "    </tr>\n",
       "  </tbody>\n",
       "</table>\n",
       "</div>"
      ],
      "text/plain": [
       "         appid                              name  \\\n",
       "570        570                            Dota 2   \n",
       "730        730  Counter-Strike: Global Offensive   \n",
       "578080  578080               PUBG: BATTLEGROUNDS   \n",
       "440        440                   Team Fortress 2   \n",
       "304930  304930                          Unturned   \n",
       "\n",
       "                               developer              publisher score_rank  \\\n",
       "570                                Valve                  Valve              \n",
       "730     Valve, Hidden Path Entertainment                  Valve              \n",
       "578080                     KRAFTON, Inc.          KRAFTON, Inc.              \n",
       "440                                Valve                  Valve              \n",
       "304930             Smartly Dressed Games  Smartly Dressed Games              \n",
       "\n",
       "        positive  negative  userscore                      owners  \\\n",
       "570      1364873    263943          0  100,000,000 .. 200,000,000   \n",
       "730      5335135    717424          0   50,000,000 .. 100,000,000   \n",
       "578080   1029684    838306          0   50,000,000 .. 100,000,000   \n",
       "440       779844     52003          0   50,000,000 .. 100,000,000   \n",
       "304930    419374     39279          0    20,000,000 .. 50,000,000   \n",
       "\n",
       "        average_forever  average_2weeks  median_forever  median_2weeks  price  \\\n",
       "570               33693            1497             799            674      0   \n",
       "730               28074             825            6490            292      0   \n",
       "578080            24721             595           11417            250   2999   \n",
       "440                8064            1629             343            514      0   \n",
       "304930             7108            2203             333            321      0   \n",
       "\n",
       "        initialprice  discount     ccu  \n",
       "570                0         0  671035  \n",
       "730                0         0  949451  \n",
       "578080          2999         0  353231  \n",
       "440                0         0  107161  \n",
       "304930             0         0   28380  "
      ]
     },
     "execution_count": 4,
     "metadata": {},
     "output_type": "execute_result"
    }
   ],
   "source": [
    "# Import the database and stitch together the pages\n",
    "steam = pd.read_json(\"https://steamspy.com/api.php?request=all&page=0\", orient=\"index\")\n",
    "steam = steam.append(\n",
    "    [pd.read_json(\"https://steamspy.com/api.php?request=all&page={}\".format(i), orient=\"index\") for i in range(1, 2)])\n",
    "\n",
    "# Preview 'unclean' dataset\n",
    "steam.head()\n"
   ]
  },
  {
   "cell_type": "code",
   "execution_count": 5,
   "metadata": {},
   "outputs": [],
   "source": [
    "# Sort by concurrent users\n",
    "steam = steam.sort_values(by=\"ccu\", ascending=False)\n",
    "\n",
    "# Remove duplicates\n",
    "steam = steam.drop_duplicates()\n",
    "\n",
    "# Remove columns that lacked useful values\n",
    "steam = steam.drop([\"score_rank\", \"userscore\", \"price\"], axis=1)\n",
    "\n",
    "# Rename some columns for clarity\n",
    "steam = steam.rename({\n",
    "    \"positive\": \"positive_reviews\",\n",
    "    \"negative\": \"negative_reviews\",\n",
    "    \"initialprice\": \"price\"\n",
    "}, axis=\"columns\")\n",
    "\n",
    "# Add an index\n",
    "steam.reset_index(drop=True, inplace=True)"
   ]
  },
  {
   "cell_type": "code",
   "execution_count": 6,
   "metadata": {},
   "outputs": [],
   "source": [
    "# Modify the \"owners\" values to use dashes to look more readable\n",
    "\n",
    "def f(row):\n",
    "    return(\"-\".join(row.split(\"..\")))\n",
    "\n",
    "steam[\"owners\"] = steam[\"owners\"].map(f)"
   ]
  },
  {
   "cell_type": "code",
   "execution_count": 7,
   "metadata": {},
   "outputs": [],
   "source": [
    "# Modify the \"price\" to include decimal points\n",
    "\n",
    "def p(price):\n",
    "\n",
    "    price = str(price)\n",
    "    return(float(\".\".join([price[:len(price) - 2], price[len(price) - 2:]])))\n",
    "\n",
    "\n",
    "steam[\"price\"] = steam[\"price\"].map(p)\n"
   ]
  },
  {
   "cell_type": "code",
   "execution_count": 8,
   "metadata": {},
   "outputs": [],
   "source": [
    "# Bring in another dataset for additional information\n",
    "\n",
    "ks = pd.read_csv(\"kagglesteam.csv\")"
   ]
  },
  {
   "cell_type": "code",
   "execution_count": 9,
   "metadata": {},
   "outputs": [],
   "source": [
    "ks = ks[[\"appid\", \"release_date\", \"english\", \"categories\", \"genres\"]]\n",
    "\n",
    "left = steam[np.in1d(steam[\"appid\"], ks[\"appid\"].unique())].sort_values(\"appid\")"
   ]
  },
  {
   "cell_type": "code",
   "execution_count": 10,
   "metadata": {},
   "outputs": [],
   "source": [
    "right = ks[np.in1d(ks[\"appid\"], left[\"appid\"].unique())].sort_values(\"appid\")"
   ]
  },
  {
   "cell_type": "code",
   "execution_count": 11,
   "metadata": {},
   "outputs": [],
   "source": [
    "# Merge to obtain the final steam (fs) dataset\n",
    "fs = pd.merge(left, right)\n",
    "\n"
   ]
  },
  {
   "cell_type": "code",
   "execution_count": 12,
   "metadata": {},
   "outputs": [
    {
     "data": {
      "text/plain": [
       "(1593, 17)"
      ]
     },
     "execution_count": 12,
     "metadata": {},
     "output_type": "execute_result"
    }
   ],
   "source": [
    "fs = fs[[\"appid\", \"name\", \"release_date\", \"developer\", \"publisher\", \"positive_reviews\", \"negative_reviews\", \"owners\", \"average_forever\", \"average_2weeks\", \"median_forever\", \"median_2weeks\", \"price\", \"ccu\", \"english\", \"categories\", \"genres\"]]\n",
    "\n",
    "# fs.head(50)\n",
    "fs.shape\n"
   ]
  },
  {
   "cell_type": "code",
   "execution_count": 13,
   "metadata": {},
   "outputs": [],
   "source": [
    "fs.to_csv(\"finalsteam.csv\", index=False)\n"
   ]
  }
 ],
 "metadata": {
  "interpreter": {
   "hash": "71cc18f6d8591a185c5efc331d89fd3232e18d24389a51fb172adc89bf15c084"
  },
  "kernelspec": {
   "display_name": "Python 3.8.10 64-bit (windows store)",
   "language": "python",
   "name": "python3"
  },
  "language_info": {
   "codemirror_mode": {
    "name": "ipython",
    "version": 3
   },
   "file_extension": ".py",
   "mimetype": "text/x-python",
   "name": "python",
   "nbconvert_exporter": "python",
   "pygments_lexer": "ipython3",
   "version": "3.7.6"
  },
  "orig_nbformat": 4
 },
 "nbformat": 4,
 "nbformat_minor": 2
}
